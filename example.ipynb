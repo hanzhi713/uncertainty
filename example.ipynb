{
 "cells": [
  {
   "cell_type": "code",
   "execution_count": 1,
   "metadata": {},
   "outputs": [],
   "source": [
    "from sympy import *\n",
    "from calc import Symbol\n",
    "init_printing()"
   ]
  },
  {
   "cell_type": "code",
   "execution_count": 2,
   "metadata": {
    "scrolled": false
   },
   "outputs": [],
   "source": [
    "U1 = Symbol('U_1', val=0.888, err=0.007)\n",
    "U2 = Symbol('U_2', val=0.203, err=0.002)\n",
    "V = Symbol('V', val=5.637, err=0.001)\n",
    "\n",
    "C1 = (U1 - (U1**2 - 4*U1*U2)**0.5) / (V**2)\n",
    "C2 = (U1 + (U1**2 - 4*U1*U2)**0.5) / (V**2)\n",
    "\n",
    "C1.simp()\n",
    "C2.simp()"
   ]
  },
  {
   "cell_type": "code",
   "execution_count": 3,
   "metadata": {},
   "outputs": [
    {
     "data": {
      "image/png": "[encoded data removed]",
      "text/latex": [
       "$$\\left ( \\frac{U_{1} - \\sqrt{U_{1} \\left(U_{1} - 4 U_{2}\\right)}}{V^{2}}, \\quad \\frac{\\sqrt{\\frac{V^{2} \\left(U_{1}^{2} \\sigma_{U 1}^{2} + 4 U_{1}^{2} \\sigma_{U 2}^{2} + 4 U_{2}^{2} \\sigma_{U 1}^{2} + \\sigma_{U 1}^{2}\\right) + 4 \\sigma_{V}^{2} \\left(U_{1} - \\sqrt{U_{1} \\left(U_{1} - 4 U_{2}\\right)}\\right)^{2}}{V^{2} \\left(U_{1} - \\sqrt{U_{1} \\left(U_{1} - 4 U_{2}\\right)}\\right)^{2}}} \\left(U_{1} - \\sqrt{U_{1} \\left(U_{1} - 4 U_{2}\\right)}\\right)}{V^{2}}\\right )$$"
      ],
      "text/plain": [
       "⎛                                 ____________________________________________\n",
       "⎜                                ╱                                            \n",
       "⎜                               ╱   2 ⎛  2      2       2      2       2      \n",
       "⎜                              ╱   V ⋅⎝U₁ ⋅σ_U_1  + 4⋅U₁ ⋅σ_U_2  + 4⋅U₂ ⋅σ_U_1\n",
       "⎜                             ╱    ───────────────────────────────────────────\n",
       "⎜                            ╱                                                \n",
       "⎜       ________________    ╱                                     2 ⎛       __\n",
       "⎜U₁ - ╲╱ U₁⋅(U₁ - 4⋅U₂)   ╲╱                                     V ⋅⎝U₁ - ╲╱ U\n",
       "⎜───────────────────────, ────────────────────────────────────────────────────\n",
       "⎜            2                                                                \n",
       "⎝           V                                                                 \n",
       "\n",
       "________________________________________________                          ⎞\n",
       "                                              2                           ⎟\n",
       "2        2⎞        2 ⎛       ________________⎞                            ⎟\n",
       "  + σ_U_1 ⎠ + 4⋅σ_V ⋅⎝U₁ - ╲╱ U₁⋅(U₁ - 4⋅U₂) ⎠   ⎛       ________________⎞⎟\n",
       "─────────────────────────────────────────────── ⋅⎝U₁ - ╲╱ U₁⋅(U₁ - 4⋅U₂) ⎠⎟\n",
       "               2                                                          ⎟\n",
       "______________⎞                                                           ⎟\n",
       "₁⋅(U₁ - 4⋅U₂) ⎠                                                           ⎟\n",
       "──────────────────────────────────────────────────────────────────────────⎟\n",
       "           2                                                              ⎟\n",
       "          V                                                               ⎠"
      ]
     },
     "execution_count": 3,
     "metadata": {},
     "output_type": "execute_result"
    }
   ],
   "source": [
    "C1.expr()"
   ]
  },
  {
   "cell_type": "code",
   "execution_count": 4,
   "metadata": {},
   "outputs": [
    {
     "data": {
      "text/latex": [
       "$\\displaystyle \n",
       "        \\begin{align*}\n",
       "            \\textbf{Numeric: } \\\\\n",
       "                              C_1 &= \\ 0.0197702681531304 \\pm 0.000327629137653663 \\\\\n",
       "            \\textbf{Symbolic: }& \\\\\n",
       "            \\text{Value: } C_1 &= \\frac{U_{1} - \\sqrt{U_{1} \\left(U_{1} - 4 U_{2}\\right)}}{V^{2}} \\\\\n",
       "                                  &= \\frac{0.888 - \\sqrt{0.888 \\left(- 4 \\cdot 0.203 + 0.888\\right)}}{5.637^{2}} \\\\\n",
       "            \\text{Error: } \\sigma_{C_1}&= \\frac{\\sqrt{\\frac{V^{2} \\left(U_{1}^{2} \\sigma_{U 1}^{2} + 4 U_{1}^{2} \\sigma_{U 2}^{2} + 4 U_{2}^{2} \\sigma_{U 1}^{2} + \\sigma_{U 1}^{2}\\right) + 4 \\sigma_{V}^{2} \\left(U_{1} - \\sqrt{U_{1} \\left(U_{1} - 4 U_{2}\\right)}\\right)^{2}}{V^{2} \\left(U_{1} - \\sqrt{U_{1} \\left(U_{1} - 4 U_{2}\\right)}\\right)^{2}}} \\left(U_{1} - \\sqrt{U_{1} \\left(U_{1} - 4 U_{2}\\right)}\\right)}{V^{2}} \\\\\n",
       "                                  &= \\frac{\\sqrt{\\frac{4 \\cdot 0.001^{2} \\left(0.888 - \\sqrt{0.888 \\left(- 4 \\cdot 0.203 + 0.888\\right)}\\right)^{2} + 5.637^{2} \\left(4 \\cdot 0.002^{2} \\cdot 0.888^{2} + 4 \\cdot 0.007^{2} \\cdot 0.203^{2} + 0.007^{2} \\cdot 0.888^{2} + 0.007^{2}\\right)}{5.637^{2} \\left(0.888 - \\sqrt{0.888 \\left(- 4 \\cdot 0.203 + 0.888\\right)}\\right)^{2}}} \\left(0.888 - \\sqrt{0.888 \\left(- 4 \\cdot 0.203 + 0.888\\right)}\\right)}{5.637^{2}} \\\\\n",
       "        \\end{align*}\n",
       "            $"
      ],
      "text/plain": [
       "<IPython.core.display.Math object>"
      ]
     },
     "metadata": {},
     "output_type": "display_data"
    },
    {
     "data": {
      "text/latex": [
       "$\\displaystyle \n",
       "        \\begin{align*}\n",
       "            \\textbf{Numeric: } \\\\\n",
       "                              C_2 &= \\ 0.0361213768295607 \\pm 0.000327804658695168 \\\\\n",
       "            \\textbf{Symbolic: }& \\\\\n",
       "            \\text{Value: } C_2 &= \\frac{U_{1} + \\sqrt{U_{1} \\left(U_{1} - 4 U_{2}\\right)}}{V^{2}} \\\\\n",
       "                                  &= \\frac{0.888 + \\sqrt{0.888 \\left(- 4 \\cdot 0.203 + 0.888\\right)}}{5.637^{2}} \\\\\n",
       "            \\text{Error: } \\sigma_{C_2}&= \\frac{\\sqrt{\\frac{V^{2} \\left(U_{1}^{2} \\sigma_{U 1}^{2} + 4 U_{1}^{2} \\sigma_{U 2}^{2} + 4 U_{2}^{2} \\sigma_{U 1}^{2} + \\sigma_{U 1}^{2}\\right) + 4 \\sigma_{V}^{2} \\left(U_{1} + \\sqrt{U_{1} \\left(U_{1} - 4 U_{2}\\right)}\\right)^{2}}{V^{2} \\left(U_{1} + \\sqrt{U_{1} \\left(U_{1} - 4 U_{2}\\right)}\\right)^{2}}} \\left(U_{1} + \\sqrt{U_{1} \\left(U_{1} - 4 U_{2}\\right)}\\right)}{V^{2}} \\\\\n",
       "                                  &= \\frac{\\sqrt{\\frac{4 \\cdot 0.001^{2} \\left(0.888 + \\sqrt{0.888 \\left(- 4 \\cdot 0.203 + 0.888\\right)}\\right)^{2} + 5.637^{2} \\left(4 \\cdot 0.002^{2} \\cdot 0.888^{2} + 4 \\cdot 0.007^{2} \\cdot 0.203^{2} + 0.007^{2} \\cdot 0.888^{2} + 0.007^{2}\\right)}{5.637^{2} \\left(0.888 + \\sqrt{0.888 \\left(- 4 \\cdot 0.203 + 0.888\\right)}\\right)^{2}}} \\left(0.888 + \\sqrt{0.888 \\left(- 4 \\cdot 0.203 + 0.888\\right)}\\right)}{5.637^{2}} \\\\\n",
       "        \\end{align*}\n",
       "            $"
      ],
      "text/plain": [
       "<IPython.core.display.Math object>"
      ]
     },
     "metadata": {},
     "output_type": "display_data"
    }
   ],
   "source": [
    "C1.display(name=\"C_1\")\n",
    "C2.display(name=\"C_2\")"
   ]
  },
  {
   "cell_type": "code",
   "execution_count": null,
   "metadata": {},
   "outputs": [],
   "source": []
  }
 ],
 "metadata": {
  "kernelspec": {
   "display_name": "Python 3",
   "language": "python",
   "name": "python3"
  },
  "language_info": {
   "codemirror_mode": {
    "name": "ipython",
    "version": 3
   },
   "file_extension": ".py",
   "mimetype": "text/x-python",
   "name": "python",
   "nbconvert_exporter": "python",
   "pygments_lexer": "ipython3",
   "version": "3.6.6"
  }
 },
 "nbformat": 4,
 "nbformat_minor": 2
}
