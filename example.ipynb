{
 "cells": [
  {
   "cell_type": "code",
   "execution_count": 1,
   "metadata": {},
   "outputs": [],
   "source": [
    "from sympy import *\n",
    "from calc import Symbol\n",
    "init_printing()"
   ]
  },
  {
   "cell_type": "markdown",
   "metadata": {},
   "source": [
    "## Simple Addition"
   ]
  },
  {
   "cell_type": "code",
   "execution_count": 2,
   "metadata": {},
   "outputs": [
    {
     "data": {
      "text/latex": [
       "$\\displaystyle \n",
       "        \\begin{align*}\n",
       "            \\textbf{Numeric: } \\\\\n",
       "                              r1 &= \\ 3.00000000000000 \\pm 0.0141421356237310 \\\\\n",
       "            \\textbf{Symbolic: }& \\\\\n",
       "            \\text{Value: } r1 &= a + b \\\\\n",
       "                                  &= 3 \\\\\n",
       "            \\text{Error: } \\sigma_{r1}&= \\sqrt{\\sigma_{a}^{2} + \\sigma_{b}^{2}} \\\\\n",
       "                                  &= 0.014142135623731 \\\\\n",
       "        \\end{align*}\n",
       "            $"
      ],
      "text/plain": [
       "<IPython.core.display.Math object>"
      ]
     },
     "metadata": {},
     "output_type": "display_data"
    }
   ],
   "source": [
    "a = Symbol('a', val=1, err=0.01)\n",
    "b = Symbol('b', val=2, err=0.01)\n",
    "r1 = a + b\n",
    "r1.simp()\n",
    "r1.display(name=\"r1\")"
   ]
  },
  {
   "cell_type": "markdown",
   "metadata": {},
   "source": [
    "## Multiplication"
   ]
  },
  {
   "cell_type": "code",
   "execution_count": 3,
   "metadata": {},
   "outputs": [
    {
     "data": {
      "text/latex": [
       "$\\displaystyle \n",
       "        \\begin{align*}\n",
       "            \\textbf{Numeric: } \\\\\n",
       "                              r1 &= \\ 2.00000000000000 \\pm 0.0223606797749979 \\\\\n",
       "            \\textbf{Symbolic: }& \\\\\n",
       "            \\text{Value: } r1 &= a b \\\\\n",
       "                                  &= 2 \\\\\n",
       "            \\text{Error: } \\sigma_{r1}&= a b \\sqrt{\\frac{\\sigma_{b}^{2}}{b^{2}} + \\frac{\\sigma_{a}^{2}}{a^{2}}} \\\\\n",
       "                                  &= 0.0223606797749979 \\\\\n",
       "        \\end{align*}\n",
       "            $"
      ],
      "text/plain": [
       "<IPython.core.display.Math object>"
      ]
     },
     "metadata": {},
     "output_type": "display_data"
    }
   ],
   "source": [
    "r1 = a * b\n",
    "r1.simp()\n",
    "r1.display(name=\"r1\")"
   ]
  },
  {
   "cell_type": "markdown",
   "metadata": {},
   "source": [
    "## Exponentiation"
   ]
  },
  {
   "cell_type": "code",
   "execution_count": 4,
   "metadata": {},
   "outputs": [
    {
     "data": {
      "text/latex": [
       "$\\displaystyle \n",
       "        \\begin{align*}\n",
       "            \\textbf{Numeric: } \\\\\n",
       "                              r1 &= \\ 1.00000000000000 \\pm 0.00500000000000000 \\\\\n",
       "            \\textbf{Symbolic: }& \\\\\n",
       "            \\text{Value: } r1 &= \\sqrt{a} \\\\\n",
       "                                  &= 1 \\\\\n",
       "            \\text{Error: } \\sigma_{r1}&= \\frac{a \\sigma_{a}}{2} \\\\\n",
       "                                  &= 0.005 \\\\\n",
       "        \\end{align*}\n",
       "            $"
      ],
      "text/plain": [
       "<IPython.core.display.Math object>"
      ]
     },
     "metadata": {},
     "output_type": "display_data"
    }
   ],
   "source": [
    "r1 = a ** (1/2)\n",
    "r1.simp()\n",
    "r1.display(name=\"r1\")"
   ]
  },
  {
   "cell_type": "markdown",
   "metadata": {},
   "source": [
    "## Standard error of the mean"
   ]
  },
  {
   "cell_type": "code",
   "execution_count": 5,
   "metadata": {},
   "outputs": [
    {
     "data": {
      "image/png": "[encoded data removed]",
      "text/latex": [
       "$\\displaystyle \\left( 1.5, \\  0.11547005383792514\\right)$"
      ],
      "text/plain": [
       "(1.5, 0.11547005383792514)"
      ]
     },
     "execution_count": 5,
     "metadata": {},
     "output_type": "execute_result"
    }
   ],
   "source": [
    "mean, err = Symbol.std_err_of_mean(1.3, 1.5, 1.7)\n",
    "mean, err"
   ]
  },
  {
   "cell_type": "markdown",
   "metadata": {},
   "source": [
    "## Miscellaneous"
   ]
  },
  {
   "cell_type": "code",
   "execution_count": 6,
   "metadata": {},
   "outputs": [
    {
     "data": {
      "text/latex": [
       "$\\displaystyle \n",
       "        \\begin{align*}\n",
       "            \\textbf{Numeric: } \\\\\n",
       "                              r1 &= \\ 1.50000000000000 \\pm 0.0114564392373896 \\\\\n",
       "            \\textbf{Symbolic: }& \\\\\n",
       "            \\text{Value: } r1 &= a + \\frac{a}{b} \\\\\n",
       "                                  &= \\frac{3}{2} \\\\\n",
       "            \\text{Error: } \\sigma_{r1}&= \\sqrt{\\frac{a^{2} \\sigma_{b}^{2}}{b^{4}} + \\sigma_{a}^{2} + \\frac{\\sigma_{a}^{2}}{b^{2}}} \\\\\n",
       "                                  &= 0.0114564392373896 \\\\\n",
       "        \\end{align*}\n",
       "            $"
      ],
      "text/plain": [
       "<IPython.core.display.Math object>"
      ]
     },
     "metadata": {},
     "output_type": "display_data"
    }
   ],
   "source": [
    "r1 = a / b + a\n",
    "r1.simp()\n",
    "r1.display(name=\"r1\")"
   ]
  },
  {
   "cell_type": "markdown",
   "metadata": {},
   "source": [
    "## A more complex example"
   ]
  },
  {
   "cell_type": "code",
   "execution_count": 7,
   "metadata": {
    "scrolled": false
   },
   "outputs": [],
   "source": [
    "U1 = Symbol('U_1', val=0.888, err=0.007)\n",
    "U2 = Symbol('U_2', val=0.203, err=0.002)\n",
    "V = Symbol('V', val=5.637, err=0.001)\n",
    "\n",
    "C1 = (U1 - (U1**2 - 4*U1*U2)**0.5) / (V**2)\n",
    "C2 = (U1 + (U1**2 - 4*U1*U2)**0.5) / (V**2)\n",
    "\n",
    "C1.simp()\n",
    "C2.simp()"
   ]
  },
  {
   "cell_type": "code",
   "execution_count": 8,
   "metadata": {},
   "outputs": [
    {
     "data": {
      "text/latex": [
       "$\\displaystyle \n",
       "        \\begin{align*}\n",
       "            \\textbf{Numeric: } \\\\\n",
       "                              C_1 &= \\ 0.0197702681531304 \\pm 0.000221011614823886 \\\\\n",
       "            \\textbf{Symbolic: }& \\\\\n",
       "            \\text{Value: } C_1 &= \\frac{U_{1} - \\sqrt{U_{1} \\left(U_{1} - 4 U_{2}\\right)}}{V^{2}} \\\\\n",
       "                                  &= 0.0197702681531304 \\\\\n",
       "            \\text{Error: } \\sigma_{C_1}&= \\frac{\\sqrt{\\frac{V^{2} \\left(U_{1}^{2} \\left(U_{1} - 4 U_{2}\\right)^{2} \\left(U_{1}^{2} \\sigma_{U 1}^{2} + 4 U_{1}^{2} \\sigma_{U 2}^{2} + 4 U_{2}^{2} \\sigma_{U 1}^{2}\\right) + \\sigma_{U 1}^{2}\\right) + 4 \\sigma_{V}^{2} \\left(U_{1} - \\sqrt{U_{1} \\left(U_{1} - 4 U_{2}\\right)}\\right)^{2}}{V^{2} \\left(U_{1} - \\sqrt{U_{1} \\left(U_{1} - 4 U_{2}\\right)}\\right)^{2}}} \\left(U_{1} - \\sqrt{U_{1} \\left(U_{1} - 4 U_{2}\\right)}\\right)}{V^{2}} \\\\\n",
       "                                  &= 0.000221011614823886 \\\\\n",
       "        \\end{align*}\n",
       "            $"
      ],
      "text/plain": [
       "<IPython.core.display.Math object>"
      ]
     },
     "metadata": {},
     "output_type": "display_data"
    },
    {
     "data": {
      "text/latex": [
       "$\\displaystyle \n",
       "        \\begin{align*}\n",
       "            \\textbf{Numeric: } \\\\\n",
       "                              C_2 &= \\ 0.0361213768295607 \\pm 0.000221271725056850 \\\\\n",
       "            \\textbf{Symbolic: }& \\\\\n",
       "            \\text{Value: } C_2 &= \\frac{U_{1} + \\sqrt{U_{1} \\left(U_{1} - 4 U_{2}\\right)}}{V^{2}} \\\\\n",
       "                                  &= 0.0361213768295607 \\\\\n",
       "            \\text{Error: } \\sigma_{C_2}&= \\frac{\\sqrt{\\frac{V^{2} \\left(U_{1}^{2} \\left(U_{1} - 4 U_{2}\\right)^{2} \\left(U_{1}^{2} \\sigma_{U 1}^{2} + 4 U_{1}^{2} \\sigma_{U 2}^{2} + 4 U_{2}^{2} \\sigma_{U 1}^{2}\\right) + \\sigma_{U 1}^{2}\\right) + 4 \\sigma_{V}^{2} \\left(U_{1} + \\sqrt{U_{1} \\left(U_{1} - 4 U_{2}\\right)}\\right)^{2}}{V^{2} \\left(U_{1} + \\sqrt{U_{1} \\left(U_{1} - 4 U_{2}\\right)}\\right)^{2}}} \\left(U_{1} + \\sqrt{U_{1} \\left(U_{1} - 4 U_{2}\\right)}\\right)}{V^{2}} \\\\\n",
       "                                  &= 0.00022127172505685 \\\\\n",
       "        \\end{align*}\n",
       "            $"
      ],
      "text/plain": [
       "<IPython.core.display.Math object>"
      ]
     },
     "metadata": {},
     "output_type": "display_data"
    }
   ],
   "source": [
    "C1.display(name=\"C_1\")\n",
    "C2.display(name=\"C_2\")"
   ]
  },
  {
   "cell_type": "code",
   "execution_count": null,
   "metadata": {},
   "outputs": [],
   "source": []
  }
 ],
 "metadata": {
  "kernelspec": {
   "display_name": "Python 3",
   "language": "python",
   "name": "python3"
  },
  "language_info": {
   "codemirror_mode": {
    "name": "ipython",
    "version": 3
   },
   "file_extension": ".py",
   "mimetype": "text/x-python",
   "name": "python",
   "nbconvert_exporter": "python",
   "pygments_lexer": "ipython3",
   "version": "3.7.3"
  }
 },
 "nbformat": 4,
 "nbformat_minor": 2
}
