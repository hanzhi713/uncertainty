{
 "cells": [
  {
   "cell_type": "code",
   "execution_count": 1,
   "metadata": {},
   "outputs": [],
   "source": [
    "from sympy import *\n",
    "from calc import Symbol\n",
    "init_printing()"
   ]
  },
  {
   "cell_type": "code",
   "execution_count": 2,
   "metadata": {
    "scrolled": false
   },
   "outputs": [],
   "source": [
    "U1 = Symbol('U_1', val=0.888, err=0.007)\n",
    "U2 = Symbol('U_2', val=0.203, err=0.002)\n",
    "V = Symbol('V', val=5.637, err=0.001)\n",
    "\n",
    "C1 = (U1 - (U1**2 - U1*U2*4)**0.5) / (V**2)\n",
    "C2 = (U1 + (U1**2 - U1*U2*4)**0.5) / (V**2)"
   ]
  },
  {
   "cell_type": "code",
   "execution_count": 3,
   "metadata": {},
   "outputs": [
    {
     "data": {
      "image/png": "[encoded data removed]",
      "text/latex": [
       "$$\\left ( 0.0197702681531304, \\quad 0.000327629137653663, \\quad \\frac{0.888 - \\sqrt{0.888 \\left(- 4 \\cdot 0.203 + 0.888\\right)}}{5.637^{2}}, \\quad \\frac{\\sqrt{\\frac{4 \\cdot 0.001^{2} \\left(0.888 - \\sqrt{0.888 \\left(- 4 \\cdot 0.203 + 0.888\\right)}\\right)^{2} + 5.637^{2} \\left(4 \\cdot 0.002^{2} \\cdot 0.888^{2} + 4 \\cdot 0.007^{2} \\cdot 0.203^{2} + 0.007^{2} \\cdot 0.888^{2} + 0.007^{2}\\right)}{5.637^{2} \\left(0.888 - \\sqrt{0.888 \\left(- 4 \\cdot 0.203 + 0.888\\right)}\\right)^{2}}} \\left(0.888 - \\sqrt{0.888 \\left(- 4 \\cdot 0.203 + 0.888\\right)}\\right)}{5.637^{2}}\\right )$$"
      ],
      "text/plain": [
       "⎛                                                                             \n",
       "⎜                                                                             \n",
       "⎜                                                                             \n",
       "⎜                                                                             \n",
       "⎜                                                                             \n",
       "⎜                                                                             \n",
       "⎜                                                    _________________________\n",
       "⎜                                          0.888 - ╲╱ 0.888⋅(-4⋅0.203 + 0.888)\n",
       "⎜0.0197702681531304, 0.000327629137653663, ───────────────────────────────────\n",
       "⎜                                                              2              \n",
       "⎝                                                         5.637               \n",
       "\n",
       "           ___________________________________________________________________\n",
       "          ╱                                                2                  \n",
       "         ╱         2 ⎛          __________________________⎞         2 ⎛       \n",
       "        ╱   4⋅0.001 ⋅⎝0.888 - ╲╱ 0.888⋅(-4⋅0.203 + 0.888) ⎠  + 5.637 ⋅⎝4⋅0.002\n",
       "       ╱    ──────────────────────────────────────────────────────────────────\n",
       "      ╱                                                                       \n",
       "_    ╱                                               2 ⎛          ____________\n",
       "   ╲╱                                           5.637 ⋅⎝0.888 - ╲╱ 0.888⋅(-4⋅0\n",
       "─, ───────────────────────────────────────────────────────────────────────────\n",
       "                                                                              \n",
       "                                                                              \n",
       "\n",
       "_____________________________________________________                         \n",
       "                                                                              \n",
       "2      2          2      2        2      2        2⎞                          \n",
       " ⋅0.888  + 4⋅0.007 ⋅0.203  + 0.007 ⋅0.888  + 0.007 ⎠  ⎛          _____________\n",
       "──────────────────────────────────────────────────── ⋅⎝0.888 - ╲╱ 0.888⋅(-4⋅0.\n",
       "               2                                                              \n",
       "______________⎞                                                               \n",
       ".203 + 0.888) ⎠                                                               \n",
       "──────────────────────────────────────────────────────────────────────────────\n",
       "           2                                                                  \n",
       "      5.637                                                                   \n",
       "\n",
       "              ⎞\n",
       "              ⎟\n",
       "              ⎟\n",
       "_____________⎞⎟\n",
       "203 + 0.888) ⎠⎟\n",
       "              ⎟\n",
       "              ⎟\n",
       "              ⎟\n",
       "──────────────⎟\n",
       "              ⎟\n",
       "              ⎠"
      ]
     },
     "execution_count": 3,
     "metadata": {},
     "output_type": "execute_result"
    }
   ],
   "source": [
    "C1.eval()"
   ]
  },
  {
   "cell_type": "code",
   "execution_count": 4,
   "metadata": {},
   "outputs": [
    {
     "data": {
      "image/png": "[encoded data removed]",
      "text/latex": [
       "$$\\left ( 0.0361213768295607, \\quad 0.000327804658695168, \\quad \\frac{0.888 + \\sqrt{0.888 \\left(- 4 \\cdot 0.203 + 0.888\\right)}}{5.637^{2}}, \\quad \\frac{\\sqrt{\\frac{4 \\cdot 0.001^{2} \\left(0.888 + \\sqrt{0.888 \\left(- 4 \\cdot 0.203 + 0.888\\right)}\\right)^{2} + 5.637^{2} \\left(4 \\cdot 0.002^{2} \\cdot 0.888^{2} + 4 \\cdot 0.007^{2} \\cdot 0.203^{2} + 0.007^{2} \\cdot 0.888^{2} + 0.007^{2}\\right)}{5.637^{2} \\left(0.888 + \\sqrt{0.888 \\left(- 4 \\cdot 0.203 + 0.888\\right)}\\right)^{2}}} \\left(0.888 + \\sqrt{0.888 \\left(- 4 \\cdot 0.203 + 0.888\\right)}\\right)}{5.637^{2}}\\right )$$"
      ],
      "text/plain": [
       "⎛                                                                             \n",
       "⎜                                                                             \n",
       "⎜                                                                             \n",
       "⎜                                                                             \n",
       "⎜                                                                             \n",
       "⎜                                                                             \n",
       "⎜                                                    _________________________\n",
       "⎜                                          0.888 + ╲╱ 0.888⋅(-4⋅0.203 + 0.888)\n",
       "⎜0.0361213768295607, 0.000327804658695168, ───────────────────────────────────\n",
       "⎜                                                              2              \n",
       "⎝                                                         5.637               \n",
       "\n",
       "           ___________________________________________________________________\n",
       "          ╱                                                2                  \n",
       "         ╱         2 ⎛          __________________________⎞         2 ⎛       \n",
       "        ╱   4⋅0.001 ⋅⎝0.888 + ╲╱ 0.888⋅(-4⋅0.203 + 0.888) ⎠  + 5.637 ⋅⎝4⋅0.002\n",
       "       ╱    ──────────────────────────────────────────────────────────────────\n",
       "      ╱                                                                       \n",
       "_    ╱                                               2 ⎛          ____________\n",
       "   ╲╱                                           5.637 ⋅⎝0.888 + ╲╱ 0.888⋅(-4⋅0\n",
       "─, ───────────────────────────────────────────────────────────────────────────\n",
       "                                                                              \n",
       "                                                                              \n",
       "\n",
       "_____________________________________________________                         \n",
       "                                                                              \n",
       "2      2          2      2        2      2        2⎞                          \n",
       " ⋅0.888  + 4⋅0.007 ⋅0.203  + 0.007 ⋅0.888  + 0.007 ⎠  ⎛          _____________\n",
       "──────────────────────────────────────────────────── ⋅⎝0.888 + ╲╱ 0.888⋅(-4⋅0.\n",
       "               2                                                              \n",
       "______________⎞                                                               \n",
       ".203 + 0.888) ⎠                                                               \n",
       "──────────────────────────────────────────────────────────────────────────────\n",
       "           2                                                                  \n",
       "      5.637                                                                   \n",
       "\n",
       "              ⎞\n",
       "              ⎟\n",
       "              ⎟\n",
       "_____________⎞⎟\n",
       "203 + 0.888) ⎠⎟\n",
       "              ⎟\n",
       "              ⎟\n",
       "              ⎟\n",
       "──────────────⎟\n",
       "              ⎟\n",
       "              ⎠"
      ]
     },
     "execution_count": 4,
     "metadata": {},
     "output_type": "execute_result"
    }
   ],
   "source": [
    "C2.eval()"
   ]
  },
  {
   "cell_type": "code",
   "execution_count": 5,
   "metadata": {},
   "outputs": [
    {
     "data": {
      "image/png": "[encoded data removed]",
      "text/latex": [
       "$$\\frac{\\sqrt{\\frac{V^{2} \\left(U_{1}^{2} \\sigma_{U 1}^{2} + 4 U_{1}^{2} \\sigma_{U 2}^{2} + 4 U_{2}^{2} \\sigma_{U 1}^{2} + \\sigma_{U 1}^{2}\\right) + 4 \\sigma_{V}^{2} \\left(U_{1} + \\sqrt{U_{1} \\left(U_{1} - 4 U_{2}\\right)}\\right)^{2}}{V^{2} \\left(U_{1} + \\sqrt{U_{1} \\left(U_{1} - 4 U_{2}\\right)}\\right)^{2}}} \\left(U_{1} + \\sqrt{U_{1} \\left(U_{1} - 4 U_{2}\\right)}\\right)}{V^{2}}$$"
      ],
      "text/plain": [
       "        ______________________________________________________________________\n",
       "       ╱                                                                      \n",
       "      ╱   2 ⎛  2      2       2      2       2      2        2⎞        2 ⎛    \n",
       "     ╱   V ⋅⎝U₁ ⋅σ_U_1  + 4⋅U₁ ⋅σ_U_2  + 4⋅U₂ ⋅σ_U_1  + σ_U_1 ⎠ + 4⋅σ_V ⋅⎝U₁ +\n",
       "    ╱    ─────────────────────────────────────────────────────────────────────\n",
       "   ╱                                                               2          \n",
       "  ╱                                     2 ⎛       ________________⎞           \n",
       "╲╱                                     V ⋅⎝U₁ + ╲╱ U₁⋅(U₁ - 4⋅U₂) ⎠           \n",
       "──────────────────────────────────────────────────────────────────────────────\n",
       "                                                               2              \n",
       "                                                              V               \n",
       "\n",
       "______________________                          \n",
       "                    2                           \n",
       "   ________________⎞                            \n",
       " ╲╱ U₁⋅(U₁ - 4⋅U₂) ⎠   ⎛       ________________⎞\n",
       "───────────────────── ⋅⎝U₁ + ╲╱ U₁⋅(U₁ - 4⋅U₂) ⎠\n",
       "                                                \n",
       "                                                \n",
       "                                                \n",
       "────────────────────────────────────────────────\n",
       "                                                \n",
       "                                                "
      ]
     },
     "execution_count": 5,
     "metadata": {},
     "output_type": "execute_result"
    }
   ],
   "source": [
    "C2.err_sym"
   ]
  },
  {
   "cell_type": "code",
   "execution_count": 6,
   "metadata": {},
   "outputs": [
    {
     "data": {
      "image/png": "[encoded data removed]",
      "text/latex": [
       "$$\\frac{\\sqrt{\\frac{V^{2} \\left(U_{1}^{2} \\sigma_{U 1}^{2} + 4 U_{1}^{2} \\sigma_{U 2}^{2} + 4 U_{2}^{2} \\sigma_{U 1}^{2} + \\sigma_{U 1}^{2}\\right) + 4 \\sigma_{V}^{2} \\left(U_{1} - \\sqrt{U_{1} \\left(U_{1} - 4 U_{2}\\right)}\\right)^{2}}{V^{2} \\left(U_{1} - \\sqrt{U_{1} \\left(U_{1} - 4 U_{2}\\right)}\\right)^{2}}} \\left(U_{1} - \\sqrt{U_{1} \\left(U_{1} - 4 U_{2}\\right)}\\right)}{V^{2}}$$"
      ],
      "text/plain": [
       "        ______________________________________________________________________\n",
       "       ╱                                                                      \n",
       "      ╱   2 ⎛  2      2       2      2       2      2        2⎞        2 ⎛    \n",
       "     ╱   V ⋅⎝U₁ ⋅σ_U_1  + 4⋅U₁ ⋅σ_U_2  + 4⋅U₂ ⋅σ_U_1  + σ_U_1 ⎠ + 4⋅σ_V ⋅⎝U₁ -\n",
       "    ╱    ─────────────────────────────────────────────────────────────────────\n",
       "   ╱                                                               2          \n",
       "  ╱                                     2 ⎛       ________________⎞           \n",
       "╲╱                                     V ⋅⎝U₁ - ╲╱ U₁⋅(U₁ - 4⋅U₂) ⎠           \n",
       "──────────────────────────────────────────────────────────────────────────────\n",
       "                                                               2              \n",
       "                                                              V               \n",
       "\n",
       "______________________                          \n",
       "                    2                           \n",
       "   ________________⎞                            \n",
       " ╲╱ U₁⋅(U₁ - 4⋅U₂) ⎠   ⎛       ________________⎞\n",
       "───────────────────── ⋅⎝U₁ - ╲╱ U₁⋅(U₁ - 4⋅U₂) ⎠\n",
       "                                                \n",
       "                                                \n",
       "                                                \n",
       "────────────────────────────────────────────────\n",
       "                                                \n",
       "                                                "
      ]
     },
     "execution_count": 6,
     "metadata": {},
     "output_type": "execute_result"
    }
   ],
   "source": [
    "C1.err_sym"
   ]
  },
  {
   "cell_type": "code",
   "execution_count": 7,
   "metadata": {},
   "outputs": [
    {
     "data": {
      "text/plain": [
       "'\\\\frac{\\\\sqrt{\\\\frac{V^{2} \\\\left(U_{1}^{2} \\\\sigma_{U 1}^{2} + 4 U_{1}^{2} \\\\sigma_{U 2}^{2} + 4 U_{2}^{2} \\\\sigma_{U 1}^{2} + \\\\sigma_{U 1}^{2}\\\\right) + 4 \\\\sigma_{V}^{2} \\\\left(U_{1} - \\\\sqrt{U_{1} \\\\left(U_{1} - 4 U_{2}\\\\right)}\\\\right)^{2}}{V^{2} \\\\left(U_{1} - \\\\sqrt{U_{1} \\\\left(U_{1} - 4 U_{2}\\\\right)}\\\\right)^{2}}} \\\\left(U_{1} - \\\\sqrt{U_{1} \\\\left(U_{1} - 4 U_{2}\\\\right)}\\\\right)}{V^{2}}'"
      ]
     },
     "execution_count": 7,
     "metadata": {},
     "output_type": "execute_result"
    }
   ],
   "source": [
    "latex(C1.err_sym)"
   ]
  },
  {
   "cell_type": "code",
   "execution_count": null,
   "metadata": {},
   "outputs": [],
   "source": []
  }
 ],
 "metadata": {
  "kernelspec": {
   "display_name": "Python 3",
   "language": "python",
   "name": "python3"
  },
  "language_info": {
   "codemirror_mode": {
    "name": "ipython",
    "version": 3
   },
   "file_extension": ".py",
   "mimetype": "text/x-python",
   "name": "python",
   "nbconvert_exporter": "python",
   "pygments_lexer": "ipython3",
   "version": "3.6.8"
  }
 },
 "nbformat": 4,
 "nbformat_minor": 2
}
